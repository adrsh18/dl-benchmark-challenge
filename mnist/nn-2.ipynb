{
 "cells": [
  {
   "cell_type": "code",
   "execution_count": 13,
   "metadata": {
    "collapsed": true
   },
   "outputs": [],
   "source": [
    "import numpy as np\n",
    "import cPickle as pkl"
   ]
  },
  {
   "cell_type": "code",
   "execution_count": 14,
   "metadata": {
    "collapsed": true
   },
   "outputs": [],
   "source": [
    "f = open(\"data/mnist.pkl\", \"rb\")\n",
    "data = pkl.load(f)\n",
    "f.close()"
   ]
  },
  {
   "cell_type": "code",
   "execution_count": 15,
   "metadata": {
    "collapsed": true
   },
   "outputs": [],
   "source": [
    "trainX = data[0][0]\n",
    "trainY = data[0][1]\n",
    "\n",
    "valX = data[1][0]\n",
    "valY = data[1][1]\n",
    "\n",
    "testX = data[2][0]\n",
    "testY = data[2][1]\n",
    "\n",
    "meanX = np.mean(trainX, axis=0)\n",
    "stdX = np.std(trainX, axis=0)\n",
    "\n",
    "trainX = (trainX - meanX)\n",
    "testX = (testX - meanX)\n",
    "valX = (valX - meanX)"
   ]
  },
  {
   "cell_type": "code",
   "execution_count": 40,
   "metadata": {
    "collapsed": true
   },
   "outputs": [],
   "source": [
    "import numpy as np\n",
    "import math\n",
    "from random import randrange\n",
    "\n",
    "class NeuralNet(object):\n",
    "    \n",
    "    def __init__(self, input_size, hidden_size, output_size):\n",
    "        \n",
    "        self.params = {}\n",
    "        self.params['W1'] = np.random.randn(input_size, hidden_size) * math.sqrt(2.0 / input_size)\n",
    "        self.params['b1'] = np.zeros((1,hidden_size))\n",
    "        self.params['W2'] = np.random.randn(hidden_size, hidden_size) * math.sqrt(2.0 / hidden_size)\n",
    "        self.params['b2'] = np.zeros((1,hidden_size))\n",
    "        self.params['W3'] = np.random.randn(hidden_size, output_size) * math.sqrt(2.0 / hidden_size)\n",
    "        self.params['b3'] = np.zeros((1,output_size))\n",
    "        \n",
    "        pass\n",
    "    \n",
    "    def __oneHot(self, vector):\n",
    "        encoded_vector = np.zeros((vector.size, vector.max()+1), dtype=vector.dtype)\n",
    "        encoded_vector[np.arange(vector.size), vector] = 1\n",
    "        return encoded_vector\n",
    "    \n",
    "    def __softmax(self, x):\n",
    "        z = np.exp(x)\n",
    "        return z / np.sum(z,axis=1,keepdims=True)\n",
    "    \n",
    "    def loss(self, X, rawY, reg=0.0, dropout=[0.8, 0.5, 0.5], allowDropout=True):\n",
    "        W1, b1 = self.params['W1'], self.params['b1']\n",
    "        W2, b2 = self.params['W2'], self.params['b2']\n",
    "        W3, b3 = self.params['W3'], self.params['b3']\n",
    "        \n",
    "        y = self.__oneHot(rawY)\n",
    "        N,D = X.shape\n",
    "        H,K = W3.shape\n",
    "        \n",
    "        if allowDropout:\n",
    "            inputMask = (np.random.rand(*X.shape) < dropout[0]) / dropout[0]\n",
    "        else:\n",
    "            inputMask = np.ones(X.shape)\n",
    "        \n",
    "        X_dropout = X * inputMask\n",
    "        \n",
    "        z1 = np.dot(X_dropout, W1) + b1\n",
    "        \n",
    "        dz1_db1 = 1.0\n",
    "        dz1_dW1 = X_dropout.T\n",
    "        dz1_dX = W1.T\n",
    "        \n",
    "        \n",
    "        z2 = np.maximum(0, z1)\n",
    "        \n",
    "        if allowDropout:\n",
    "            dropoutMask1 = (np.random.rand(*z2.shape) < dropout[1]) / dropout[1]\n",
    "        else:\n",
    "            dropoutMask1 = np.ones(z2.shape)\n",
    "        \n",
    "        z2 *= dropoutMask1\n",
    "        \n",
    "        dz2_dz1 = (z2 > 0) * np.ones(z2.shape)\n",
    "        \n",
    "        \n",
    "        z3 = np.dot(z2, W2) + b2\n",
    "        dz3_dz2 = W2.T\n",
    "        dz3_dW2 = z2.T\n",
    "        dz3_db2 = 1.0\n",
    "        \n",
    "        z4 = np.maximum(0, z3)\n",
    "        \n",
    "        if allowDropout:\n",
    "            dropoutMask2 = (np.random.rand(*z4.shape) < dropout[2]) / dropout[2]\n",
    "        else:\n",
    "            dropoutMask2 = np.ones(z4.shape)\n",
    "        \n",
    "        z4 *= dropoutMask2\n",
    "        dz4_dz3 = (z4 > 0) * np.ones(z4.shape)\n",
    "        \n",
    "        z5 = np.dot(z4, W3) + b3\n",
    "        dz5_dz4 = W3.T\n",
    "        dz5_dW3 = z4.T\n",
    "        dz5_db3 = 1.0  \n",
    "        \n",
    "        probs = self.__softmax(z5)\n",
    "        \n",
    "        data_loss = -1.0 * np.sum(y * np.log(probs)) / N\n",
    "        reg_loss = (reg / 2) * (np.sum(W1**2) + np.sum(W2**2) + np.sum(W3**2)) / N\n",
    "        loss = data_loss + reg_loss\n",
    "        \n",
    "        grad = probs - y\n",
    "        \n",
    "        db3 = np.sum(grad * dz5_db3, axis=0, keepdims=True)\n",
    "        dW3 = np.dot(dz5_dW3, grad) + (reg * W3)\n",
    "        \n",
    "        dz4 = np.dot(grad, dz5_dz4)\n",
    "        dz4 *= dropoutMask2\n",
    "        \n",
    "        dz3 = dz4_dz3 * dz4\n",
    "        db2 = np.sum(dz3_db2 * dz3, axis=0, keepdims=True)\n",
    "        dW2 = np.dot(dz3_dW2, dz3) + (reg * W2)\n",
    "        \n",
    "        dz2 = np.dot(dz3, dz3_dz2)\n",
    "        dz2 *= dropoutMask1\n",
    "                \n",
    "        dz1 = dz2_dz1 * dz2\n",
    "        db1 = np.sum(dz1_db1 * dz1, axis=0, keepdims=True)\n",
    "        dW1 = np.dot(dz1_dW1, dz1) + (reg * W1)\n",
    "        \n",
    "        return loss, dW1, dW2, dW3, db1, db2, db3\n",
    "    \n",
    "    def train(self, X, Y, learning_rate, iters=100, mode=\"nesterov\", reg=0.0, dropout=1.0, eps=1e-8, beta1=0.9, beta2=0.99, mu=0.9, valX=None, valY=None):\n",
    "        batch_size = 512\n",
    "        batchesX = np.array_split(X, X.shape[0]/batch_size)\n",
    "        batchesY = np.array_split(Y, Y.shape[0]/batch_size)\n",
    "        \n",
    "        v1 = 0\n",
    "        v1Prev = 0\n",
    "        v2 = 0\n",
    "        v2Prev = 0\n",
    "        v3 = 0\n",
    "        v3Prev = 0\n",
    "        \n",
    "        loss_trend = []\n",
    "        acc_trend = []\n",
    "        \n",
    "        for t in xrange(iters):\n",
    "            for b in xrange(len(batchesX)):\n",
    "                \n",
    "                loss, dW1, dW2, dW3, db1, db2, db3 = self.loss(batchesX[b], batchesY[b], reg)\n",
    "                if mode == \"nesterov\":\n",
    "                    v1Prev = v1\n",
    "                    v1 = mu * v1 - learning_rate * dW1\n",
    "                    self.params['W1'] += -mu * v1Prev + (1 + mu) * v1\n",
    "                    self.params['b1'] += -learning_rate * db1\n",
    "\n",
    "                    v2Prev = v2\n",
    "                    v2 = mu * v2 - learning_rate * dW2\n",
    "                    self.params['W2'] += -mu * v2Prev + (1 + mu) * v2\n",
    "                    self.params['b2'] += -learning_rate * db2\n",
    "                    \n",
    "                    v3Prev = v3\n",
    "                    v3 = mu * v3 - learning_rate * dW3\n",
    "                    self.params['W3'] += -mu * v3Prev + (1 + mu) * v3\n",
    "                    self.params['b3'] += -learning_rate * db3\n",
    "            \n",
    "            loss_trend.append(loss)\n",
    "            if valX is not None:\n",
    "                acc = self.predict(valX, valY)\n",
    "                acc_trend.append(acc)\n",
    "                print \"Iteration %d; Loss = %f; Validation Acc = %f\" % (t, loss, acc)\n",
    "            else:\n",
    "                print \"Iteration %d; Loss = %f\" % (t, loss)\n",
    "        return loss_trend, acc_trend\n",
    "    \n",
    "    def predict(self, X, rawY):\n",
    "        \n",
    "        W1, b1 = self.params['W1'], self.params['b1']\n",
    "        W2, b2 = self.params['W2'], self.params['b2']\n",
    "        W3, b3 = self.params['W3'], self.params['b3']\n",
    "        \n",
    "        y = self.__oneHot(rawY)\n",
    "        N,D = X.shape\n",
    "        H,K = W3.shape\n",
    "        \n",
    "        z1 = np.dot(X, W1) + b1\n",
    "        z2 = np.maximum(0, z1)\n",
    "        z3 = np.dot(z2, W2) + b2\n",
    "        z4 = np.maximum(0, z3)\n",
    "        z5 = np.dot(z4, W3) + b3\n",
    "        probs = self.__softmax(z5)\n",
    "        predY = np.argmax(probs, axis=1)\n",
    "        acc = np.mean(np.equal(rawY, predY))\n",
    "        return acc\n",
    "    \n",
    "    def gradCheckRelative(self, X, rawY, num_checks):\n",
    "        h = 1e-4\n",
    "        l, a1, a2, analytic_grad_three, b1, b2, b3 = self.loss(X, rawY, allowDropout=False)\n",
    "        \n",
    "        for i in xrange(num_checks):\n",
    "            ix = tuple([randrange(m) for m in self.params['W3'].shape])\n",
    "            \n",
    "            self.params['W3'][ix] += h\n",
    "            fxph, a1, a2, a3, b1, b2, b3 = self.loss(X, rawY, allowDropout=False)\n",
    "            \n",
    "            self.params['W3'][ix] -= 2*h\n",
    "            fxmh, a1, a2, a3, b1, b2, b3 = self.loss(X, rawY, allowDropout=False)\n",
    "            \n",
    "            self.params['W3'][ix] += h\n",
    "            \n",
    "            grad_numerical = (fxph - fxmh) / (2*h)\n",
    "            grad_analytic = analytic_grad_three[ix]\n",
    "            \n",
    "            rel_error = abs(grad_numerical - grad_analytic) / (abs(grad_numerical) + abs(grad_analytic))\n",
    "            print 'numerical: %f analytic: %f, relative error: %e' % (grad_numerical, grad_analytic, rel_error)\n",
    "        "
   ]
  },
  {
   "cell_type": "code",
   "execution_count": 51,
   "metadata": {},
   "outputs": [
    {
     "name": "stdout",
     "output_type": "stream",
     "text": [
      "Iteration 0; Loss = 0.547226; Validation Acc = 0.926100\n",
      "Iteration 1; Loss = 0.437260; Validation Acc = 0.946600\n",
      "Iteration 2; Loss = 0.368040; Validation Acc = 0.957300\n",
      "Iteration 3; Loss = 0.334375; Validation Acc = 0.960900\n",
      "Iteration 4; Loss = 0.282197; Validation Acc = 0.965000\n",
      "Iteration 5; Loss = 0.296586; Validation Acc = 0.965500\n",
      "Iteration 6; Loss = 0.261934; Validation Acc = 0.969600\n",
      "Iteration 7; Loss = 0.266607; Validation Acc = 0.970700\n",
      "Iteration 8; Loss = 0.252392; Validation Acc = 0.972000\n",
      "Iteration 9; Loss = 0.208610; Validation Acc = 0.973800\n",
      "Iteration 10; Loss = 0.195279; Validation Acc = 0.974600\n",
      "Iteration 11; Loss = 0.195606; Validation Acc = 0.975300\n",
      "Iteration 12; Loss = 0.181456; Validation Acc = 0.975300\n",
      "Iteration 13; Loss = 0.194883; Validation Acc = 0.975900\n",
      "Iteration 14; Loss = 0.171741; Validation Acc = 0.976300\n",
      "Iteration 15; Loss = 0.172767; Validation Acc = 0.977800\n",
      "Iteration 16; Loss = 0.164596; Validation Acc = 0.978500\n",
      "Iteration 17; Loss = 0.136051; Validation Acc = 0.978000\n",
      "Iteration 18; Loss = 0.138541; Validation Acc = 0.978900\n",
      "Iteration 19; Loss = 0.163168; Validation Acc = 0.977400\n",
      "Iteration 20; Loss = 0.126496; Validation Acc = 0.979100\n",
      "Iteration 21; Loss = 0.143147; Validation Acc = 0.978600\n",
      "Iteration 22; Loss = 0.149050; Validation Acc = 0.979200\n",
      "Iteration 23; Loss = 0.123168; Validation Acc = 0.980600\n",
      "Iteration 24; Loss = 0.158276; Validation Acc = 0.980200\n",
      "Iteration 25; Loss = 0.133357; Validation Acc = 0.980600\n",
      "Iteration 26; Loss = 0.130559; Validation Acc = 0.981300\n",
      "Iteration 27; Loss = 0.101198; Validation Acc = 0.980500\n",
      "Iteration 28; Loss = 0.142373; Validation Acc = 0.980700\n",
      "Iteration 29; Loss = 0.125575; Validation Acc = 0.981000\n",
      "Iteration 30; Loss = 0.096103; Validation Acc = 0.981900\n",
      "Iteration 31; Loss = 0.095733; Validation Acc = 0.981700\n",
      "Iteration 32; Loss = 0.111063; Validation Acc = 0.981900\n",
      "Iteration 33; Loss = 0.113436; Validation Acc = 0.981900\n",
      "Iteration 34; Loss = 0.103172; Validation Acc = 0.982800\n",
      "Iteration 35; Loss = 0.097130; Validation Acc = 0.982000\n",
      "Iteration 36; Loss = 0.080368; Validation Acc = 0.983000\n",
      "Iteration 37; Loss = 0.099798; Validation Acc = 0.982800\n",
      "Iteration 38; Loss = 0.089773; Validation Acc = 0.983000\n",
      "Iteration 39; Loss = 0.089621; Validation Acc = 0.983000\n",
      "Iteration 40; Loss = 0.069750; Validation Acc = 0.983200\n",
      "Iteration 41; Loss = 0.121873; Validation Acc = 0.983200\n",
      "Iteration 42; Loss = 0.083590; Validation Acc = 0.983900\n",
      "Iteration 43; Loss = 0.091723; Validation Acc = 0.983900\n",
      "Iteration 44; Loss = 0.079816; Validation Acc = 0.983300\n",
      "Iteration 45; Loss = 0.087123; Validation Acc = 0.983700\n",
      "Iteration 46; Loss = 0.103946; Validation Acc = 0.984100\n",
      "Iteration 47; Loss = 0.089364; Validation Acc = 0.984100\n",
      "Iteration 48; Loss = 0.065522; Validation Acc = 0.983800\n",
      "Iteration 49; Loss = 0.074891; Validation Acc = 0.984300\n"
     ]
    }
   ],
   "source": [
    "nn = NeuralNet(784, 2048, 10)\n",
    "l,a = nn.train(trainX, trainY, \n",
    "               learning_rate=2.8e-5, \n",
    "               reg=7.43e-06,\n",
    "               dropout=[0.8, 0.6, 0.6],\n",
    "               iters=50, mode=\"nesterov\", mu=0.95, valX=valX, valY=valY)"
   ]
  },
  {
   "cell_type": "code",
   "execution_count": 52,
   "metadata": {},
   "outputs": [
    {
     "data": {
      "image/png": "[encoded data removed]",
      "text/plain": [
       "<matplotlib.figure.Figure at 0xad14a20>"
      ]
     },
     "metadata": {},
     "output_type": "display_data"
    },
    {
     "data": {
      "image/png": "[encoded data removed]",
      "text/plain": [
       "<matplotlib.figure.Figure at 0xaf52d68>"
      ]
     },
     "metadata": {},
     "output_type": "display_data"
    }
   ],
   "source": [
    "import matplotlib.pyplot as plt\n",
    "\n",
    "plt.title(\"Loss Trend\")\n",
    "plt.plot(l)\n",
    "plt.xlabel('Iteration Number')\n",
    "plt.ylabel('Loss')\n",
    "plt.show()\n",
    "\n",
    "plt.title(\"Validation Accuracy\")\n",
    "plt.plot(a)\n",
    "plt.xlabel('Iteration Number')\n",
    "plt.ylabel('Validation Acc')\n",
    "plt.show()"
   ]
  },
  {
   "cell_type": "code",
   "execution_count": 53,
   "metadata": {},
   "outputs": [
    {
     "data": {
      "text/plain": [
       "0.9829"
      ]
     },
     "execution_count": 53,
     "metadata": {},
     "output_type": "execute_result"
    }
   ],
   "source": [
    "nn.predict(testX, testY)"
   ]
  },
  {
   "cell_type": "code",
   "execution_count": 54,
   "metadata": {
    "collapsed": true
   },
   "outputs": [],
   "source": [
    "f = open(\"model-2.pkl\", \"wb\")\n",
    "pkl.dump(nn.params, f)\n",
    "f.close()"
   ]
  },
  {
   "cell_type": "code",
   "execution_count": 55,
   "metadata": {
    "collapsed": true
   },
   "outputs": [],
   "source": [
    "g = open(\"model-2.pkl\", \"rb\")\n",
    "ps = pkl.load(g)\n",
    "g.close()"
   ]
  }
 ],
 "metadata": {
  "anaconda-cloud": {},
  "kernelspec": {
   "display_name": "Python 2",
   "language": "python",
   "name": "python2"
  },
  "language_info": {
   "codemirror_mode": {
    "name": "ipython",
    "version": 2
   },
   "file_extension": ".py",
   "mimetype": "text/x-python",
   "name": "python",
   "nbconvert_exporter": "python",
   "pygments_lexer": "ipython2",
   "version": "2.7.13"
  }
 },
 "nbformat": 4,
 "nbformat_minor": 1
}
